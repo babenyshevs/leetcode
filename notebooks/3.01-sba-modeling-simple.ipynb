{
 "cells": [
  {
   "cell_type": "code",
   "execution_count": 1,
   "metadata": {},
   "outputs": [],
   "source": [
    "%load_ext autoreload\n",
    "%autoreload 2"
   ]
  },
  {
   "cell_type": "markdown",
   "metadata": {},
   "source": [
    "# IMPORTS"
   ]
  },
  {
   "cell_type": "code",
   "execution_count": 2,
   "metadata": {},
   "outputs": [
    {
     "name": "stderr",
     "output_type": "stream",
     "text": [
      "/Users/babenyshev/Desktop/_repositories/personal/leetcode/.venv/lib/python3.9/site-packages/urllib3/__init__.py:35: NotOpenSSLWarning: urllib3 v2 only supports OpenSSL 1.1.1+, currently the 'ssl' module is compiled with 'LibreSSL 2.8.3'. See: https://github.com/urllib3/urllib3/issues/3020\n",
      "  warnings.warn(\n"
     ]
    }
   ],
   "source": [
    "import os\n",
    "from dotenv import load_dotenv\n",
    "\n",
    "# data\n",
    "import pandas as pd\n",
    "import numpy as np\n",
    "\n",
    "# src\n",
    "from src.general.io import disable_warnings\n",
    "from src.features.math import fib"
   ]
  },
  {
   "cell_type": "code",
   "execution_count": 3,
   "metadata": {},
   "outputs": [],
   "source": [
    "disable_warnings()"
   ]
  },
  {
   "cell_type": "code",
   "execution_count": 4,
   "metadata": {},
   "outputs": [
    {
     "data": {
      "text/plain": [
       "True"
      ]
     },
     "execution_count": 4,
     "metadata": {},
     "output_type": "execute_result"
    }
   ],
   "source": [
    "load_dotenv()"
   ]
  },
  {
   "cell_type": "markdown",
   "metadata": {},
   "source": [
    "# CODE"
   ]
  },
  {
   "cell_type": "markdown",
   "metadata": {},
   "source": [
    "## 1957. Delete Characters to Make Fancy String"
   ]
  },
  {
   "cell_type": "code",
   "execution_count": 34,
   "metadata": {},
   "outputs": [
    {
     "data": {
      "text/plain": [
       "'aabaa'"
      ]
     },
     "execution_count": 34,
     "metadata": {},
     "output_type": "execute_result"
    }
   ],
   "source": [
    "s = \"aaabaaaa\"\n",
    "output = \"\"\n",
    "for char in s:\n",
    "    if len(output) < 2 or not (output[-1] == char and output[-2] == char):\n",
    "        output += char\n",
    "\n",
    "output"
   ]
  },
  {
   "cell_type": "markdown",
   "metadata": {},
   "source": [
    "## 2914. Minimum Number of Changes to Make Binary String Beautiful"
   ]
  },
  {
   "cell_type": "code",
   "execution_count": 6,
   "metadata": {},
   "outputs": [
    {
     "name": "stdout",
     "output_type": "stream",
     "text": [
      "0 1 0\n",
      "2 0 1\n"
     ]
    },
    {
     "data": {
      "text/plain": [
       "2"
      ]
     },
     "execution_count": 6,
     "metadata": {},
     "output_type": "execute_result"
    }
   ],
   "source": [
    "s = \"1001\"\n",
    "\n",
    "n_changes = 0\n",
    "n_s = len(s)\n",
    "\n",
    "for n in range(0, n_s,2):\n",
    "    char1 = s[n]\n",
    "    char2 = s[n+1]\n",
    "    print(n, char1, char2)\n",
    "    if char1 != char2:\n",
    "        n_changes += 1\n",
    "\n",
    "n_changes "
   ]
  },
  {
   "cell_type": "markdown",
   "metadata": {},
   "source": [
    "## 2275. Larges Combination With bitwise AND greater than zero"
   ]
  },
  {
   "cell_type": "code",
   "execution_count": 35,
   "metadata": {},
   "outputs": [
    {
     "name": "stdout",
     "output_type": "stream",
     "text": [
      "[71, 62, 24, 17, 16, 14, 12]\n",
      "71 in binary: 1000111\n",
      "62 in binary: 0111110\n",
      "24 in binary: 0011000\n",
      "17 in binary: 0010001\n",
      "16 in binary: 0010000\n",
      "14 in binary: 0001110\n",
      "12 in binary: 0001100\n"
     ]
    },
    {
     "data": {
      "text/plain": [
       "0"
      ]
     },
     "execution_count": 35,
     "metadata": {},
     "output_type": "execute_result"
    }
   ],
   "source": [
    "candidates = [16,17,71,62,12,24,14]\n",
    "\n",
    "out = 0\n",
    "c_s = sorted(candidates, reverse=True)\n",
    "print(c_s)\n",
    "for x in c_s:\n",
    "    print(f\"{x} in binary: {format(x, '07b')}\")\n",
    "    out *= x \n",
    "\n",
    "out"
   ]
  },
  {
   "cell_type": "code",
   "execution_count": 52,
   "metadata": {},
   "outputs": [
    {
     "data": {
      "text/plain": [
       "4"
      ]
     },
     "execution_count": 52,
     "metadata": {},
     "output_type": "execute_result"
    }
   ],
   "source": [
    "htable = {i:0 for i in range(24)}\n",
    "max_cs = 0\n",
    "for c in candidates:\n",
    "    for shift in htable.keys():\n",
    "        bit = (c >> shift) & 1\n",
    "        htable[shift] += bit\n",
    "        if htable[shift] > max_cs:\n",
    "            max_cs = htable[shift]\n",
    "\n",
    "max_cs"
   ]
  },
  {
   "cell_type": "markdown",
   "metadata": {},
   "source": [
    "## 1829. Maximum XOR for each query"
   ]
  },
  {
   "cell_type": "code",
   "execution_count": 70,
   "metadata": {},
   "outputs": [],
   "source": [
    "nums = [0,1,1,3]\n",
    "maximumBit = 2"
   ]
  },
  {
   "cell_type": "code",
   "execution_count": null,
   "metadata": {},
   "outputs": [
    {
     "name": "stdout",
     "output_type": "stream",
     "text": [
      "3\n",
      "0\n"
     ]
    },
    {
     "data": {
      "text/plain": [
       "[]"
      ]
     },
     "execution_count": 72,
     "metadata": {},
     "output_type": "execute_result"
    }
   ],
   "source": [
    "# Calculate the bitmask based on maximumBit (e.g., for maximumBit=3, mask is 7 (0b111))\n",
    "mask = (1 << maximumBit) - 1\n",
    "print(mask)\n",
    "\n",
    "# Initialize cumulative XOR for all elements in nums\n",
    "cumulative_xor = 0\n",
    "for num in nums:\n",
    "    cumulative_xor ^= num\n",
    "print(cumulative_xor)\n",
    "\n",
    "# Result array to store answers for each query\n",
    "answer = []\n",
    "\n",
    "# Process each query in reverse order\n",
    "for i in range(len(nums)):\n",
    "    # k is the bitwise complement of cumulative_xor, masked to the maximumBit limit\n",
    "    k = cumulative_xor ^ mask\n",
    "    answer.append(k)\n",
    "    \n",
    "    # Update cumulative_xor by removing the last element of nums\n",
    "    cumulative_xor ^= nums.pop()\n",
    "\n",
    "# Since we're doing queries in reverse, reverse the result to match the expected order\n",
    "answer\n"
   ]
  },
  {
   "cell_type": "code",
   "execution_count": null,
   "metadata": {},
   "outputs": [],
   "source": []
  },
  {
   "cell_type": "code",
   "execution_count": null,
   "metadata": {},
   "outputs": [],
   "source": []
  },
  {
   "cell_type": "code",
   "execution_count": null,
   "metadata": {},
   "outputs": [],
   "source": []
  },
  {
   "cell_type": "code",
   "execution_count": null,
   "metadata": {},
   "outputs": [],
   "source": []
  }
 ],
 "metadata": {
  "kernelspec": {
   "display_name": ".venv",
   "language": "python",
   "name": "python3"
  },
  "language_info": {
   "codemirror_mode": {
    "name": "ipython",
    "version": 3
   },
   "file_extension": ".py",
   "mimetype": "text/x-python",
   "name": "python",
   "nbconvert_exporter": "python",
   "pygments_lexer": "ipython3",
   "version": "3.9.6"
  }
 },
 "nbformat": 4,
 "nbformat_minor": 2
}
