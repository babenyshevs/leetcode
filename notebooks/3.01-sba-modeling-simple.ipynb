{
 "cells": [
  {
   "cell_type": "code",
   "execution_count": 1,
   "metadata": {},
   "outputs": [],
   "source": [
    "%load_ext autoreload\n",
    "%autoreload 2"
   ]
  },
  {
   "cell_type": "markdown",
   "metadata": {},
   "source": [
    "# IMPORTS"
   ]
  },
  {
   "cell_type": "code",
   "execution_count": 2,
   "metadata": {},
   "outputs": [
    {
     "name": "stderr",
     "output_type": "stream",
     "text": [
      "/Users/babenyshev/Desktop/_repositories/personal/leetcode/.venv/lib/python3.9/site-packages/urllib3/__init__.py:35: NotOpenSSLWarning: urllib3 v2 only supports OpenSSL 1.1.1+, currently the 'ssl' module is compiled with 'LibreSSL 2.8.3'. See: https://github.com/urllib3/urllib3/issues/3020\n",
      "  warnings.warn(\n"
     ]
    }
   ],
   "source": [
    "import os\n",
    "from dotenv import load_dotenv\n",
    "\n",
    "# data\n",
    "import pandas as pd\n",
    "import numpy as np\n",
    "\n",
    "# src\n",
    "from src.general.io import disable_warnings\n",
    "from src.features.math import fib"
   ]
  },
  {
   "cell_type": "code",
   "execution_count": 3,
   "metadata": {},
   "outputs": [],
   "source": [
    "disable_warnings()"
   ]
  },
  {
   "cell_type": "code",
   "execution_count": 4,
   "metadata": {},
   "outputs": [
    {
     "data": {
      "text/plain": [
       "True"
      ]
     },
     "execution_count": 4,
     "metadata": {},
     "output_type": "execute_result"
    }
   ],
   "source": [
    "load_dotenv()"
   ]
  },
  {
   "cell_type": "markdown",
   "metadata": {},
   "source": [
    "# CODE"
   ]
  },
  {
   "cell_type": "markdown",
   "metadata": {},
   "source": [
    "## 1957. Delete Characters to Make Fancy String"
   ]
  },
  {
   "cell_type": "code",
   "execution_count": 34,
   "metadata": {},
   "outputs": [
    {
     "data": {
      "text/plain": [
       "'aabaa'"
      ]
     },
     "execution_count": 34,
     "metadata": {},
     "output_type": "execute_result"
    }
   ],
   "source": [
    "s = \"aaabaaaa\"\n",
    "output = \"\"\n",
    "for char in s:\n",
    "    if len(output) < 2 or not (output[-1] == char and output[-2] == char):\n",
    "        output += char\n",
    "\n",
    "output"
   ]
  },
  {
   "cell_type": "markdown",
   "metadata": {},
   "source": [
    "## 2914. Minimum Number of Changes to Make Binary String Beautiful"
   ]
  },
  {
   "cell_type": "code",
   "execution_count": 6,
   "metadata": {},
   "outputs": [
    {
     "name": "stdout",
     "output_type": "stream",
     "text": [
      "0 1 0\n",
      "2 0 1\n"
     ]
    },
    {
     "data": {
      "text/plain": [
       "2"
      ]
     },
     "execution_count": 6,
     "metadata": {},
     "output_type": "execute_result"
    }
   ],
   "source": [
    "s = \"1001\"\n",
    "\n",
    "n_changes = 0\n",
    "n_s = len(s)\n",
    "\n",
    "for n in range(0, n_s,2):\n",
    "    char1 = s[n]\n",
    "    char2 = s[n+1]\n",
    "    print(n, char1, char2)\n",
    "    if char1 != char2:\n",
    "        n_changes += 1\n",
    "\n",
    "n_changes "
   ]
  },
  {
   "cell_type": "markdown",
   "metadata": {},
   "source": [
    "## 2275. Larges Combination With bitwise AND greater than zero"
   ]
  },
  {
   "cell_type": "code",
   "execution_count": 35,
   "metadata": {},
   "outputs": [
    {
     "name": "stdout",
     "output_type": "stream",
     "text": [
      "[71, 62, 24, 17, 16, 14, 12]\n",
      "71 in binary: 1000111\n",
      "62 in binary: 0111110\n",
      "24 in binary: 0011000\n",
      "17 in binary: 0010001\n",
      "16 in binary: 0010000\n",
      "14 in binary: 0001110\n",
      "12 in binary: 0001100\n"
     ]
    },
    {
     "data": {
      "text/plain": [
       "0"
      ]
     },
     "execution_count": 35,
     "metadata": {},
     "output_type": "execute_result"
    }
   ],
   "source": [
    "candidates = [16,17,71,62,12,24,14]\n",
    "\n",
    "out = 0\n",
    "c_s = sorted(candidates, reverse=True)\n",
    "print(c_s)\n",
    "for x in c_s:\n",
    "    print(f\"{x} in binary: {format(x, '07b')}\")\n",
    "    out *= x \n",
    "\n",
    "out"
   ]
  },
  {
   "cell_type": "code",
   "execution_count": 52,
   "metadata": {},
   "outputs": [
    {
     "data": {
      "text/plain": [
       "4"
      ]
     },
     "execution_count": 52,
     "metadata": {},
     "output_type": "execute_result"
    }
   ],
   "source": [
    "htable = {i:0 for i in range(24)}\n",
    "max_cs = 0\n",
    "for c in candidates:\n",
    "    for shift in htable.keys():\n",
    "        bit = (c >> shift) & 1\n",
    "        htable[shift] += bit\n",
    "        if htable[shift] > max_cs:\n",
    "            max_cs = htable[shift]\n",
    "\n",
    "max_cs"
   ]
  },
  {
   "cell_type": "markdown",
   "metadata": {},
   "source": [
    "## 1829. Maximum XOR for each query"
   ]
  },
  {
   "cell_type": "code",
   "execution_count": 70,
   "metadata": {},
   "outputs": [],
   "source": [
    "nums = [0,1,1,3]\n",
    "maximumBit = 2"
   ]
  },
  {
   "cell_type": "code",
   "execution_count": null,
   "metadata": {},
   "outputs": [
    {
     "name": "stdout",
     "output_type": "stream",
     "text": [
      "3\n",
      "0\n"
     ]
    },
    {
     "data": {
      "text/plain": [
       "[]"
      ]
     },
     "execution_count": 72,
     "metadata": {},
     "output_type": "execute_result"
    }
   ],
   "source": [
    "# Calculate the bitmask based on maximumBit (e.g., for maximumBit=3, mask is 7 (0b111))\n",
    "mask = (1 << maximumBit) - 1\n",
    "print(mask)\n",
    "\n",
    "# Initialize cumulative XOR for all elements in nums\n",
    "cumulative_xor = 0\n",
    "for num in nums:\n",
    "    cumulative_xor ^= num\n",
    "print(cumulative_xor)\n",
    "\n",
    "# Result array to store answers for each query\n",
    "answer = []\n",
    "\n",
    "# Process each query in reverse order\n",
    "for i in range(len(nums)):\n",
    "    # k is the bitwise complement of cumulative_xor, masked to the maximumBit limit\n",
    "    k = cumulative_xor ^ mask\n",
    "    answer.append(k)\n",
    "    \n",
    "    # Update cumulative_xor by removing the last element of nums\n",
    "    cumulative_xor ^= nums.pop()\n",
    "\n",
    "# Since we're doing queries in reverse, reverse the result to match the expected order\n",
    "answer\n"
   ]
  },
  {
   "cell_type": "markdown",
   "metadata": {},
   "source": [
    "## 3133. Minimum array end"
   ]
  },
  {
   "cell_type": "code",
   "execution_count": 73,
   "metadata": {},
   "outputs": [],
   "source": [
    "n = 3\n",
    "x = 4"
   ]
  },
  {
   "cell_type": "code",
   "execution_count": 75,
   "metadata": {},
   "outputs": [
    {
     "name": "stdout",
     "output_type": "stream",
     "text": [
      "4 in binary: 0100\n"
     ]
    }
   ],
   "source": [
    "print(f\"{x} in binary: {format(x, '04b')}\")"
   ]
  },
  {
   "cell_type": "code",
   "execution_count": 80,
   "metadata": {},
   "outputs": [
    {
     "data": {
      "text/plain": [
       "6"
      ]
     },
     "execution_count": 80,
     "metadata": {},
     "output_type": "execute_result"
    }
   ],
   "source": [
    "nums = [x]\n",
    "\n",
    "for i in range(1, n):\n",
    "    next_element = nums[-1] + 1\n",
    "    while (next_element & x) != x:\n",
    "        next_element += 1\n",
    "    nums.append(next_element)\n",
    "\n",
    "nums[-1]"
   ]
  },
  {
   "cell_type": "code",
   "execution_count": 81,
   "metadata": {},
   "outputs": [
    {
     "data": {
      "text/plain": [
       "6"
      ]
     },
     "execution_count": 81,
     "metadata": {},
     "output_type": "execute_result"
    }
   ],
   "source": [
    "n -= 1\n",
    "ans = x\n",
    "for i in range(31):  # Iterate through each bit position up to 31\n",
    "    if (x >> i & 1) == 0:  # If the `i-th` bit of `x` is 0\n",
    "        ans |= (n & 1) << i  # Set the `i-th` bit of `ans` based on `n`\n",
    "        n >>= 1  # Right-shift `n` for the next bit\n",
    "ans |= n << 31  # Add any remaining bits in `n`\n",
    "ans"
   ]
  },
  {
   "cell_type": "markdown",
   "metadata": {},
   "source": [
    "## 66. Plus one\n",
    "\n",
    "You are given a large integer represented as an integer array digits, where each digits[i] is the ith digit of the integer. The digits are ordered from most significant to least significant in left-to-right order. The large integer does not contain any leading 0's.\n",
    "\n",
    "Increment the large integer by one and return the resulting array of digits.\n",
    "\n",
    " \n",
    "\n",
    "Example 1:\n",
    "\n",
    "Input: digits = [1,2,3]\n",
    "Output: [1,2,4]\n",
    "Explanation: The array represents the integer 123.\n",
    "Incrementing by one gives 123 + 1 = 124.\n",
    "Thus, the result should be [1,2,4].\n",
    "Example 2:\n",
    "\n",
    "Input: digits = [4,3,2,1]\n",
    "Output: [4,3,2,2]\n",
    "Explanation: The array represents the integer 4321.\n",
    "Incrementing by one gives 4321 + 1 = 4322.\n",
    "Thus, the result should be [4,3,2,2].\n",
    "Example 3:\n",
    "\n",
    "Input: digits = [9]\n",
    "Output: [1,0]\n",
    "Explanation: The array represents the integer 9.\n",
    "Incrementing by one gives 9 + 1 = 10.\n",
    "Thus, the result should be [1,0]."
   ]
  },
  {
   "cell_type": "code",
   "execution_count": 1,
   "metadata": {},
   "outputs": [],
   "source": [
    "digits = [1, 2, 3]"
   ]
  },
  {
   "cell_type": "code",
   "execution_count": 19,
   "metadata": {},
   "outputs": [],
   "source": [
    "def plusOne(digits):\n",
    "    \"\"\"\n",
    "    :type digits: List[int]\n",
    "    :rtype: List[int]\n",
    "    \n",
    "    return [int(dig) for dig in str(n)]\n",
    "    \"\"\"\n",
    "    length = len(digits) - 1\n",
    "    while digits[length] == 9:\n",
    "        digits[length] = 0\n",
    "        length -= 1\n",
    "    if(length < 0):\n",
    "        digits = [1] + digits\n",
    "    else:\n",
    "        digits[length] += 1\n",
    "    return digits\n"
   ]
  },
  {
   "cell_type": "code",
   "execution_count": 20,
   "metadata": {},
   "outputs": [
    {
     "data": {
      "text/plain": [
       "[4, 3, 2, 2]"
      ]
     },
     "execution_count": 20,
     "metadata": {},
     "output_type": "execute_result"
    }
   ],
   "source": [
    "plusOne([4,3,2,1])"
   ]
  },
  {
   "cell_type": "code",
   "execution_count": 21,
   "metadata": {},
   "outputs": [
    {
     "data": {
      "text/plain": [
       "[1, 0]"
      ]
     },
     "execution_count": 21,
     "metadata": {},
     "output_type": "execute_result"
    }
   ],
   "source": [
    "plusOne([9])"
   ]
  },
  {
   "cell_type": "markdown",
   "metadata": {},
   "source": [
    "## 283. Move zeros"
   ]
  },
  {
   "cell_type": "code",
   "execution_count": 9,
   "metadata": {},
   "outputs": [
    {
     "data": {
      "text/plain": [
       "[1, 3, 12, 0, 0]"
      ]
     },
     "execution_count": 9,
     "metadata": {},
     "output_type": "execute_result"
    }
   ],
   "source": [
    "nums = [0,1,0,3,12]\n",
    "\n",
    "def moveZeroes(nums):\n",
    "    \"\"\"\n",
    "    :type nums: List[int]\n",
    "    :rtype: None Do not return anything, modify nums in-place instead.\n",
    "    \"\"\"\n",
    "    i = 0\n",
    "    while 0 in nums:\n",
    "        nums.remove(0)\n",
    "        i += 1\n",
    "    \n",
    "    nums.extend([0]*i) \n",
    "    return nums\n",
    "\n",
    "moveZeroes(nums)"
   ]
  },
  {
   "cell_type": "code",
   "execution_count": null,
   "metadata": {},
   "outputs": [],
   "source": [
    "nums = [0,1,0,3,12]\n",
    "\n",
    "def moveZeroes(nums):\n",
    "    \"\"\"\n",
    "    :type nums: List[int]\n",
    "    :rtype: None Do not return anything, modify nums in-place instead.\n",
    "    \"\"\"\n",
    "    i = 0\n",
    "    while 0 in nums:\n",
    "        nums.remove(0)\n",
    "        i += 1\n",
    "    \n",
    "    nums.extend([0]*i) \n",
    "    return nums\n",
    "\n",
    "moveZeroes(nums)"
   ]
  },
  {
   "cell_type": "markdown",
   "metadata": {},
   "source": [
    "# 1. Two sum"
   ]
  },
  {
   "cell_type": "code",
   "execution_count": null,
   "metadata": {},
   "outputs": [
    {
     "data": {
      "text/plain": [
       "[0, 1]"
      ]
     },
     "execution_count": 10,
     "metadata": {},
     "output_type": "execute_result"
    }
   ],
   "source": [
    "nums = [2,7,11,15]\n",
    "target = 9\n",
    "\n",
    "class Solution(object):\n",
    "    def twoSum(self, nums, target):\n",
    "        \"\"\"\n",
    "        :type nums: List[int]\n",
    "        :type target: int\n",
    "        :rtype: List[int]\n",
    "        \"\"\"\n",
    "        l = len(nums)\n",
    "        for i in range(l):\n",
    "            for j in range(l):\n",
    "                if (i != j) and ((nums[i] + nums[j]) == target):\n",
    "                    return [i,j]\n",
    "                \n",
    "s = Solution()\n",
    "s.twoSum(nums, target)"
   ]
  },
  {
   "cell_type": "code",
   "execution_count": 23,
   "metadata": {},
   "outputs": [
    {
     "data": {
      "text/plain": [
       "[2, 1]"
      ]
     },
     "execution_count": 23,
     "metadata": {},
     "output_type": "execute_result"
    }
   ],
   "source": [
    "nums = [2,7,11,15]\n",
    "target = 9\n",
    "\n",
    "nums = [3,2,4]\n",
    "target = 6\n",
    "\n",
    "class Solution(object):\n",
    "    def twoSum(self, nums, target):\n",
    "        \"\"\"\n",
    "        :type nums: List[int]\n",
    "        :type target: int\n",
    "        :rtype: List[int]\n",
    "        \"\"\"\n",
    "        l = len(nums)\n",
    "        for col in range(l):\n",
    "            row = col + 1\n",
    "            while row < l:  \n",
    "                if nums[row] + nums[col] == target:\n",
    "                    return [row, col]\n",
    "                else:\n",
    "                    row += 1\n",
    "                \n",
    "s = Solution()\n",
    "s.twoSum(nums, target)"
   ]
  },
  {
   "cell_type": "markdown",
   "metadata": {},
   "source": [
    "## 36. Valid Sudoku"
   ]
  },
  {
   "cell_type": "code",
   "execution_count": null,
   "metadata": {},
   "outputs": [
    {
     "data": {
      "text/plain": [
       "True"
      ]
     },
     "execution_count": 28,
     "metadata": {},
     "output_type": "execute_result"
    }
   ],
   "source": [
    "class Solution(object):\n",
    "    def isValidSudoku(self, board):\n",
    "        \"\"\"\n",
    "        :type board: List[List[str]]\n",
    "        :rtype: bool\n",
    "        \"\"\"        \n",
    "        row_hash = [[] for i in range(9)]\n",
    "        col_hash = [[] for j in range(9)]\n",
    "        box_hash = [[[] for i in range(3)] for j in range(3)]\n",
    "\n",
    "        for i in range(9):\n",
    "            for j in range(9):\n",
    "                val = board[i][j]\n",
    "                if val == \".\":\n",
    "                     continue\n",
    "                \n",
    "                if val in row_hash[i] or val in col_hash[j] or val in box_hash[i//3][j//3]:\n",
    "                    return False\n",
    "\n",
    "                else:\n",
    "                    row_hash[i].append(val)\n",
    "                    col_hash[j].append(val)\n",
    "                    box_hash[i//3][j//3].append(val)\n",
    "\n",
    "        return True\n",
    "        \n",
    "board = [[\"5\",\"3\",\".\",\".\",\"7\",\".\",\".\",\".\",\".\"],\n",
    "         [\"6\",\".\",\".\",\"1\",\"9\",\"5\",\".\",\".\",\".\"],\n",
    "         [\".\",\"9\",\"8\",\".\",\".\",\".\",\".\",\"6\",\".\"],\n",
    "         [\"8\",\".\",\".\",\".\",\"6\",\".\",\".\",\".\",\"3\"],\n",
    "         [\"4\",\".\",\".\",\"8\",\".\",\"3\",\".\",\".\",\"1\"],\n",
    "         [\"7\",\".\",\".\",\".\",\"2\",\".\",\".\",\".\",\"6\"],\n",
    "         [\".\",\"6\",\".\",\".\",\".\",\".\",\"2\",\"8\",\".\"],\n",
    "         [\".\",\".\",\".\",\"4\",\"1\",\"9\",\".\",\".\",\"5\"],\n",
    "         [\".\",\".\",\".\",\".\",\"8\",\".\",\".\",\"7\",\"9\"]]\n",
    "\n",
    "o = Solution()\n",
    "o.isValidSudoku(board)"
   ]
  },
  {
   "cell_type": "markdown",
   "metadata": {},
   "source": [
    "## 48. Rotate image"
   ]
  },
  {
   "cell_type": "code",
   "execution_count": null,
   "metadata": {},
   "outputs": [
    {
     "data": {
      "text/plain": [
       "[[7, 4, 1], [8, 5, 2], [9, 6, 3]]"
      ]
     },
     "execution_count": 18,
     "metadata": {},
     "output_type": "execute_result"
    }
   ],
   "source": [
    "matrix = [[1,2,3],[4,5,6],[7,8,9]]\n",
    "\n",
    "class Solution(object):\n",
    "    def rotate(self, matrix):\n",
    "        \"\"\"\n",
    "        :type matrix: List[List[int]]\n",
    "        :rtype: None Do not return anything, modify matrix in-place instead.\n",
    "        \"\"\"\n",
    "        n = len(matrix)\n",
    "        \n",
    "        for i in range(n):\n",
    "            for j in range(i,n):\n",
    "\t\t\t\n",
    "                matrix[i][j],matrix[j][i] = matrix[j][i],matrix[i][j]\n",
    "\t\t\t\n",
    "            matrix[i].reverse()\n",
    "        return matrix\n",
    "\n",
    "s = Solution()\n",
    "s.rotate(matrix)"
   ]
  },
  {
   "cell_type": "markdown",
   "metadata": {},
   "source": [
    "# 344. Reverse string"
   ]
  },
  {
   "cell_type": "code",
   "execution_count": 23,
   "metadata": {},
   "outputs": [
    {
     "data": {
      "text/plain": [
       "['o', 'l', 'l', 'e', 'h']"
      ]
     },
     "execution_count": 23,
     "metadata": {},
     "output_type": "execute_result"
    }
   ],
   "source": [
    "class Solution(object):\n",
    "    def reverseString(self, s):\n",
    "        \"\"\"\n",
    "        :type s: List[str]\n",
    "        :rtype: None Do not return anything, modify s in-place instead.\n",
    "        \"\"\"\n",
    "        point1, point2 = 0, len(s)-1\n",
    "        while point1 < point2:\n",
    "            s[point1], s[point2] = s[point2], s[point1]\n",
    "            point1 += 1\n",
    "            point2 -= 1\n",
    "\n",
    "        return s\n",
    "\n",
    "s = [\"h\",\"e\",\"l\",\"l\",\"o\"]\n",
    "\n",
    "ob = Solution()\n",
    "ob.reverseString(s)\n"
   ]
  },
  {
   "cell_type": "markdown",
   "metadata": {},
   "source": [
    "## 7. Reverse integer"
   ]
  },
  {
   "cell_type": "code",
   "execution_count": 14,
   "metadata": {},
   "outputs": [
    {
     "data": {
      "text/plain": [
       "0"
      ]
     },
     "execution_count": 14,
     "metadata": {},
     "output_type": "execute_result"
    }
   ],
   "source": [
    "class Solution(object):\n",
    "    def reverse(self, x):\n",
    "        \"\"\"\n",
    "        :type x: int\n",
    "        :rtype: int\n",
    "        \"\"\"\n",
    "        x_split = str(abs(x))\n",
    "        rev = int(x_split[::-1])\n",
    "        if rev+1 > 2**31 or -rev < -2**31:\n",
    "            return 0\n",
    "        elif x > 0:\n",
    "            return rev\n",
    "        else:\n",
    "            return -rev\n",
    "    \n",
    "x = 1534236469\n",
    "x = -2147483412\n",
    "x = 1563847412\n",
    "\n",
    "ob = Solution()\n",
    "ob.reverse(x)"
   ]
  },
  {
   "cell_type": "markdown",
   "metadata": {},
   "source": [
    "# 387. First Unique charater in a string"
   ]
  },
  {
   "cell_type": "code",
   "execution_count": 31,
   "metadata": {},
   "outputs": [
    {
     "name": "stdout",
     "output_type": "stream",
     "text": [
      "i:0 before:dddccdbba, c:d\n",
      "i:0 after 1:ddccdbba\n",
      "i:0 after 2:ccbba\n",
      "i:1 before:ccbba, c:c\n",
      "i:1 after 1:cbba\n",
      "i:1 after 2:bba\n",
      "i:2 before:bba, c:b\n",
      "i:2 after 1:ba\n",
      "i:2 after 2:a\n",
      "i:3 before:a, c:a\n",
      "i:3 after 1:\n"
     ]
    },
    {
     "data": {
      "text/plain": [
       "8"
      ]
     },
     "execution_count": 31,
     "metadata": {},
     "output_type": "execute_result"
    }
   ],
   "source": [
    "class Solution(object):\n",
    "    def firstUniqChar(self, s):\n",
    "        \"\"\"\n",
    "        :type s: str\n",
    "        :rtype: int\n",
    "        \"\"\"\n",
    "        i = 0\n",
    "        s_ori = s\n",
    "        while s:\n",
    "            c = s[0]\n",
    "            print(f\"i:{i} before:{s}, c:{c}\")\n",
    "            s = s.replace(c,\"\",1)\n",
    "            print(f\"i:{i} after 1:{s}\")\n",
    "            if c in s:\n",
    "                s = s.replace(c,\"\")\n",
    "                print(f\"i:{i} after 2:{s}\")\n",
    "                i += 1\n",
    "            else:\n",
    "                return s_ori.find(c)\n",
    "\n",
    "        return -1\n",
    "        \n",
    "\n",
    "s = \"leetcode\"\n",
    "s = \"loveleetcode\"\n",
    "s = \"aabb\"\n",
    "s = \"dddccdbba\"\n",
    "\n",
    "ob = Solution()\n",
    "ob.firstUniqChar(s)"
   ]
  },
  {
   "cell_type": "markdown",
   "metadata": {},
   "source": [
    "# 242 Valid anagram"
   ]
  },
  {
   "cell_type": "code",
   "execution_count": 42,
   "metadata": {},
   "outputs": [
    {
     "data": {
      "text/plain": [
       "False"
      ]
     },
     "execution_count": 42,
     "metadata": {},
     "output_type": "execute_result"
    }
   ],
   "source": [
    "class Solution(object):\n",
    "    def isAnagram(self, s, t):\n",
    "        \"\"\"\n",
    "        :type s: str\n",
    "        :type t: str\n",
    "        :rtype: bool\n",
    "        \"\"\"\n",
    "        if len(s) != len(t):\n",
    "            return False\n",
    "        \n",
    "        i = 0\n",
    "        while t:\n",
    "            if s[i] in t:\n",
    "                t = t.replace(s[i],\"\",1)\n",
    "                i += 1\n",
    "            else:\n",
    "                return False\n",
    "\n",
    "        return True\n",
    "\n",
    "s = \"anagram\"\n",
    "t = \"nagaram\"\n",
    "\n",
    "s = \"rat\"\n",
    "t = \"car\"\n",
    "\n",
    "ob = Solution()\n",
    "ob.isAnagram(s,t)    "
   ]
  },
  {
   "cell_type": "markdown",
   "metadata": {},
   "source": [
    "# 124 Valid Palindrome"
   ]
  },
  {
   "cell_type": "code",
   "execution_count": null,
   "metadata": {},
   "outputs": [
    {
     "name": "stdout",
     "output_type": "stream",
     "text": [
      "amanaplanacanalpanama\n"
     ]
    },
    {
     "data": {
      "text/plain": [
       "True"
      ]
     },
     "execution_count": 67,
     "metadata": {},
     "output_type": "execute_result"
    }
   ],
   "source": [
    "class Solution(object):\n",
    "    def isPalindrome(self, s):\n",
    "        \"\"\"\n",
    "        :type s: str\n",
    "        :rtype: bool\n",
    "        \"\"\"\n",
    "        s = \"\".join([c for c in s if c.isalnum()]).lower()\n",
    "        if len(s) == 1:\n",
    "            return True\n",
    "        start, end = 0, len(s)-1\n",
    "        while start < end:\n",
    "            if s[start] != s[end]:\n",
    "                # print(f\"{s} start:{start}[{s[start]}], end:{end}[{s[end]}]\")\n",
    "                return False\n",
    "            start += 1\n",
    "            end -= 1\n",
    "\n",
    "        return True\n",
    "\n",
    "s = \"A man, a plan, a canal: Panama\"\n",
    "# s = \"race a car\"\n",
    "# s = \" \"\n",
    "\n",
    "ob = Solution()\n",
    "ob.isPalindrome(s)    "
   ]
  },
  {
   "cell_type": "markdown",
   "metadata": {},
   "source": [
    "# 8. String to integer"
   ]
  },
  {
   "cell_type": "code",
   "execution_count": null,
   "metadata": {},
   "outputs": [
    {
     "ename": "IndexError",
     "evalue": "string index out of range",
     "output_type": "error",
     "traceback": [
      "\u001b[0;31m---------------------------------------------------------------------------\u001b[0m",
      "\u001b[0;31mIndexError\u001b[0m                                Traceback (most recent call last)",
      "Cell \u001b[0;32mIn[3], line 45\u001b[0m\n\u001b[1;32m     42\u001b[0m s \u001b[38;5;241m=\u001b[39m \u001b[38;5;124m\"\u001b[39m\u001b[38;5;124mwords and 987\u001b[39m\u001b[38;5;124m\"\u001b[39m\n\u001b[1;32m     44\u001b[0m ob \u001b[38;5;241m=\u001b[39m Solution()\n\u001b[0;32m---> 45\u001b[0m \u001b[43mob\u001b[49m\u001b[38;5;241;43m.\u001b[39;49m\u001b[43mmyAtoi\u001b[49m\u001b[43m(\u001b[49m\u001b[43ms\u001b[49m\u001b[43m)\u001b[49m\n",
      "Cell \u001b[0;32mIn[3], line 12\u001b[0m, in \u001b[0;36mSolution.myAtoi\u001b[0;34m(self, s)\u001b[0m\n\u001b[1;32m     10\u001b[0m num \u001b[38;5;241m=\u001b[39m \u001b[38;5;124m\"\u001b[39m\u001b[38;5;124m\"\u001b[39m\n\u001b[1;32m     11\u001b[0m \u001b[38;5;28;01mwhile\u001b[39;00m l \u001b[38;5;241m>\u001b[39m \u001b[38;5;241m0\u001b[39m:\n\u001b[0;32m---> 12\u001b[0m     \u001b[38;5;28;01mif\u001b[39;00m \u001b[43ms\u001b[49m\u001b[43m[\u001b[49m\u001b[43mi\u001b[49m\u001b[43m]\u001b[49m \u001b[38;5;241m==\u001b[39m \u001b[38;5;124m\"\u001b[39m\u001b[38;5;124m \u001b[39m\u001b[38;5;124m\"\u001b[39m \u001b[38;5;129;01mor\u001b[39;00m s[i] \u001b[38;5;241m==\u001b[39m \u001b[38;5;124m\"\u001b[39m\u001b[38;5;124m+\u001b[39m\u001b[38;5;124m\"\u001b[39m:\n\u001b[1;32m     13\u001b[0m         i \u001b[38;5;241m+\u001b[39m\u001b[38;5;241m=\u001b[39m \u001b[38;5;241m1\u001b[39m\n\u001b[1;32m     14\u001b[0m         \u001b[38;5;28;01mcontinue\u001b[39;00m\n",
      "\u001b[0;31mIndexError\u001b[0m: string index out of range"
     ]
    }
   ],
   "source": [
    "class Solution(object):\n",
    "    def myAtoi(self, s):\n",
    "        \"\"\"\n",
    "        :type s: str\n",
    "        :rtype: int\n",
    "        \"\"\"\n",
    "        l = len(s)\n",
    "        i = 0\n",
    "        sign = \"\"\n",
    "        num = \"\"\n",
    "        while l > 0:\n",
    "            if s[i] == \" \" or s[i] == \"+\":\n",
    "                i += 1\n",
    "                continue\n",
    "            elif s[i] == \"-\":\n",
    "                sign = \"-\"\n",
    "            elif s[i].isalnum():\n",
    "                num = f\"{num}{s[i]}\"\n",
    "            else:\n",
    "                break\n",
    "            i += 1\n",
    "        \n",
    "        if num != \"\":\n",
    "             num = f\"{sign}{num}\"\n",
    "             if num < -2**31:\n",
    "                 return -2147483648\n",
    "             elif num > 2**31 - 1:\n",
    "                 return 2147483647\n",
    "             else:\n",
    "                 return num\n",
    "        else:\n",
    "            return 0\n",
    "\n",
    "\n",
    "\n",
    "\n",
    "        \n",
    "s = \"42\"\n",
    "s = \" -042\"\n",
    "s = \"1337c0d3\"\n",
    "s = \"0-1\"\n",
    "s = \"words and 987\"\n",
    "\n",
    "ob = Solution()\n",
    "ob.myAtoi(s)"
   ]
  },
  {
   "cell_type": "markdown",
   "metadata": {},
   "source": [
    "# 28. implement strStr()"
   ]
  },
  {
   "cell_type": "code",
   "execution_count": 5,
   "metadata": {},
   "outputs": [
    {
     "data": {
      "text/plain": [
       "0"
      ]
     },
     "execution_count": 5,
     "metadata": {},
     "output_type": "execute_result"
    }
   ],
   "source": [
    "class Solution(object):\n",
    "    def strStr(self, haystack, needle):\n",
    "        \"\"\"\n",
    "        :type haystack: str\n",
    "        :type needle: str\n",
    "        :rtype: int\n",
    "        \"\"\"\n",
    "        try:\n",
    "            return haystack.index(needle)\n",
    "        except:\n",
    "            return -1\n",
    "\n",
    "        \n",
    "haystack = \"sadbutsad\"\n",
    "needle = \"sad\"\n",
    "\n",
    "ob = Solution()\n",
    "ob.strStr(haystack, needle)\n"
   ]
  },
  {
   "cell_type": "markdown",
   "metadata": {},
   "source": [
    "# 14. Longest common prefix"
   ]
  },
  {
   "cell_type": "code",
   "execution_count": null,
   "metadata": {},
   "outputs": [
    {
     "ename": "IndexError",
     "evalue": "string index out of range",
     "output_type": "error",
     "traceback": [
      "\u001b[0;31m---------------------------------------------------------------------------\u001b[0m",
      "\u001b[0;31mIndexError\u001b[0m                                Traceback (most recent call last)",
      "Cell \u001b[0;32mIn[6], line 29\u001b[0m\n\u001b[1;32m     26\u001b[0m strs \u001b[38;5;241m=\u001b[39m [\u001b[38;5;124m\"\u001b[39m\u001b[38;5;124m\"\u001b[39m]\n\u001b[1;32m     28\u001b[0m ob \u001b[38;5;241m=\u001b[39m Solution()\n\u001b[0;32m---> 29\u001b[0m \u001b[43mob\u001b[49m\u001b[38;5;241;43m.\u001b[39;49m\u001b[43mlongestCommonPrefix\u001b[49m\u001b[43m(\u001b[49m\u001b[43mstrs\u001b[49m\u001b[43m)\u001b[49m\n",
      "Cell \u001b[0;32mIn[6], line 17\u001b[0m, in \u001b[0;36mSolution.longestCommonPrefix\u001b[0;34m(self, strs)\u001b[0m\n\u001b[1;32m     14\u001b[0m         \u001b[38;5;28;01mif\u001b[39;00m s[i] \u001b[38;5;241m!=\u001b[39m first_s[i]:\n\u001b[1;32m     15\u001b[0m             \u001b[38;5;28;01mreturn\u001b[39;00m prefix\n\u001b[0;32m---> 17\u001b[0m     prefix \u001b[38;5;241m+\u001b[39m\u001b[38;5;241m=\u001b[39m \u001b[43mfirst_s\u001b[49m\u001b[43m[\u001b[49m\u001b[43mi\u001b[49m\u001b[43m]\u001b[49m\n\u001b[1;32m     19\u001b[0m \u001b[38;5;28;01mreturn\u001b[39;00m prefix\n",
      "\u001b[0;31mIndexError\u001b[0m: string index out of range"
     ]
    }
   ],
   "source": [
    "class Solution(object):\n",
    "    def longestCommonPrefix(self, strs):\n",
    "        \"\"\"\n",
    "        :type strs: List[str]\n",
    "        :rtype: str\n",
    "        \"\"\"\n",
    "\n",
    "        min_len = 200\n",
    "        prefix = \"\"\n",
    "\n",
    "        if len(strs) == 1:\n",
    "            return prefix\n",
    "\n",
    "        for i in range(min_len):\n",
    "            first_s = strs[0]\n",
    "            if first_s == \"\":\n",
    "                return prefix\n",
    "            for s in strs[1:]:\n",
    "                if s[i] != first_s[i] or s[i] == \"\":\n",
    "                    return prefix\n",
    "\n",
    "            prefix += first_s[i]\n",
    "\n",
    "        return prefix\n",
    "\n",
    "        \n",
    "\n",
    "strs = [\"flower\",\"flow\",\"flight\"]\n",
    "strs = [\"dog\",\"racecar\",\"car\"]\n",
    "strs = [\"reflower\",\"flow\",\"flight\"]\n",
    "strs = [\"\"]\n",
    "\n",
    "ob = Solution()\n",
    "ob.longestCommonPrefix(strs)\n"
   ]
  },
  {
   "cell_type": "code",
   "execution_count": null,
   "metadata": {},
   "outputs": [],
   "source": []
  }
 ],
 "metadata": {
  "kernelspec": {
   "display_name": ".venv",
   "language": "python",
   "name": "python3"
  },
  "language_info": {
   "codemirror_mode": {
    "name": "ipython",
    "version": 3
   },
   "file_extension": ".py",
   "mimetype": "text/x-python",
   "name": "python",
   "nbconvert_exporter": "python",
   "pygments_lexer": "ipython3",
   "version": "3.9.6"
  }
 },
 "nbformat": 4,
 "nbformat_minor": 2
}
