{
 "cells": [
  {
   "cell_type": "code",
   "execution_count": null,
   "metadata": {},
   "outputs": [],
   "source": [
    "%load_ext autoreload\n",
    "%autoreload 2"
   ]
  },
  {
   "cell_type": "code",
   "execution_count": 1,
   "metadata": {},
   "outputs": [],
   "source": [
    "import json"
   ]
  },
  {
   "cell_type": "code",
   "execution_count": 12,
   "metadata": {},
   "outputs": [],
   "source": [
    "# Simple structures\n",
    "simple_cases = [\n",
    "    None,\n",
    "    42,\n",
    "    3.14,\n",
    "    True,\n",
    "    False,\n",
    "    \"Hello, world!\",\n",
    "    [],\n",
    "    {},\n",
    "]\n",
    "\n",
    "# Nested structures\n",
    "nested_cases = [\n",
    "    {\"users\": [\n",
    "        {\"name\": \"Alice\", \"age\": 30},\n",
    "        {\"name\": \"Bob\", \"age\": 25}\n",
    "    ]},\n",
    "    [1, [2, 3], {\"nested\": {\"key\": \"value\"}}],\n",
    "    {\"mixed\": [1, \"string\", None, {\"deep\": True}]}\n",
    "]"
   ]
  },
  {
   "cell_type": "code",
   "execution_count": 55,
   "metadata": {},
   "outputs": [
    {
     "ename": "TypeError",
     "evalue": "sequence item 0: expected str instance, NoneType found",
     "output_type": "error",
     "traceback": [
      "\u001b[0;31m---------------------------------------------------------------------------\u001b[0m",
      "\u001b[0;31mTypeError\u001b[0m                                 Traceback (most recent call last)",
      "Cell \u001b[0;32mIn[55], line 1\u001b[0m\n\u001b[0;32m----> 1\u001b[0m \u001b[43mserialize\u001b[49m\u001b[43m(\u001b[49m\u001b[43msimple_cases\u001b[49m\u001b[43m)\u001b[49m\n",
      "Cell \u001b[0;32mIn[53], line 32\u001b[0m, in \u001b[0;36mserialize\u001b[0;34m(input)\u001b[0m\n\u001b[1;32m     30\u001b[0m \u001b[38;5;28;01mfor\u001b[39;00m v \u001b[38;5;129;01min\u001b[39;00m \u001b[38;5;28minput\u001b[39m:\n\u001b[1;32m     31\u001b[0m     temp\u001b[38;5;241m.\u001b[39mappend(serialize(v))\n\u001b[0;32m---> 32\u001b[0m \u001b[38;5;28;01mreturn\u001b[39;00m \u001b[38;5;124m\"\u001b[39m\u001b[38;5;124m[\u001b[39m\u001b[38;5;124m\"\u001b[39m\u001b[38;5;241m+\u001b[39m\u001b[38;5;124;43m\"\u001b[39;49m\u001b[38;5;124;43m,\u001b[39;49m\u001b[38;5;124;43m\"\u001b[39;49m\u001b[38;5;241;43m.\u001b[39;49m\u001b[43mjoin\u001b[49m\u001b[43m(\u001b[49m\u001b[43mtemp\u001b[49m\u001b[43m)\u001b[49m\u001b[38;5;241m+\u001b[39m\u001b[38;5;124m\"\u001b[39m\u001b[38;5;124m]\u001b[39m\u001b[38;5;124m\"\u001b[39m\n",
      "\u001b[0;31mTypeError\u001b[0m: sequence item 0: expected str instance, NoneType found"
     ]
    }
   ],
   "source": [
    "serialize(simple_cases)"
   ]
  },
  {
   "cell_type": "code",
   "execution_count": 58,
   "metadata": {},
   "outputs": [
    {
     "ename": "TypeError",
     "evalue": "sequence item 0: expected str instance, int found",
     "output_type": "error",
     "traceback": [
      "\u001b[0;31m---------------------------------------------------------------------------\u001b[0m",
      "\u001b[0;31mTypeError\u001b[0m                                 Traceback (most recent call last)",
      "Cell \u001b[0;32mIn[58], line 1\u001b[0m\n\u001b[0;32m----> 1\u001b[0m \u001b[38;5;124;43m\"\u001b[39;49m\u001b[38;5;124;43m,\u001b[39;49m\u001b[38;5;124;43m\"\u001b[39;49m\u001b[38;5;241;43m.\u001b[39;49m\u001b[43mjoin\u001b[49m\u001b[43m(\u001b[49m\u001b[43m[\u001b[49m\u001b[38;5;241;43m1\u001b[39;49m\u001b[43m,\u001b[49m\u001b[38;5;241;43m2\u001b[39;49m\u001b[43m]\u001b[49m\u001b[43m)\u001b[49m\n",
      "\u001b[0;31mTypeError\u001b[0m: sequence item 0: expected str instance, int found"
     ]
    }
   ],
   "source": [
    "\",\".join([1,2])"
   ]
  },
  {
   "cell_type": "code",
   "execution_count": 53,
   "metadata": {},
   "outputs": [],
   "source": [
    "def serialize(input):\n",
    "\n",
    "    if type(input) is bool:\n",
    "        if input:\n",
    "            return \"true\"\n",
    "        else:\n",
    "            return \"false\"     \n",
    "        \n",
    "    if type(input) is None:\n",
    "        return \"null\"\n",
    "    \n",
    "    if type(input) is int:\n",
    "        return input\n",
    "    \n",
    "    if type(input) is float:\n",
    "        return input\n",
    "    \n",
    "    if type(input) is str:\n",
    "        return f'\"{input}\"'\n",
    "    \n",
    "    if type(input) is dict:\n",
    "        temp = []\n",
    "        for k, v in input.items():\n",
    "            temp.append(f'\"{k}\":')\n",
    "            temp.append(serialize(v))\n",
    "        return \"{\"+\",\".join(temp)+\"}\"\n",
    "    \n",
    "    if type(input) is list:\n",
    "        temp = []\n",
    "        for v in input:\n",
    "            temp.append(serialize(v))\n",
    "        return \"[\"+\",\".join(temp)+\"]\" \n",
    "   "
   ]
  },
  {
   "cell_type": "code",
   "execution_count": null,
   "metadata": {},
   "outputs": [
    {
     "ename": "TypeError",
     "evalue": "dump() missing 1 required positional argument: 'fp'",
     "output_type": "error",
     "traceback": [
      "\u001b[0;31m---------------------------------------------------------------------------\u001b[0m",
      "\u001b[0;31mTypeError\u001b[0m                                 Traceback (most recent call last)",
      "Cell \u001b[0;32mIn[48], line 6\u001b[0m\n\u001b[1;32m      3\u001b[0m \u001b[38;5;66;03m# the json file where the output must be stored\u001b[39;00m\n\u001b[1;32m      4\u001b[0m out_file \u001b[38;5;241m=\u001b[39m \u001b[38;5;28mopen\u001b[39m(\u001b[38;5;124m\"\u001b[39m\u001b[38;5;124mmyfile.json\u001b[39m\u001b[38;5;124m\"\u001b[39m, \u001b[38;5;124m\"\u001b[39m\u001b[38;5;124mw\u001b[39m\u001b[38;5;124m\"\u001b[39m)\n\u001b[0;32m----> 6\u001b[0m json_str \u001b[38;5;241m=\u001b[39m \u001b[43mjson\u001b[49m\u001b[38;5;241;43m.\u001b[39;49m\u001b[43mdump\u001b[49m\u001b[43m(\u001b[49m\u001b[43mnested_cases\u001b[49m\u001b[43m)\u001b[49m\n\u001b[1;32m      8\u001b[0m out_file\u001b[38;5;241m.\u001b[39mclose()\n",
      "\u001b[0;31mTypeError\u001b[0m: dump() missing 1 required positional argument: 'fp'"
     ]
    }
   ],
   "source": [
    "import json\n",
    "\n",
    "# the json file where the output must be stored\n",
    "out_file = open(\"myfile.json\", \"w\")\n",
    "\n",
    "json_str = json.dumps(nested_cases)\n",
    "\n",
    "out_file.close()"
   ]
  },
  {
   "cell_type": "code",
   "execution_count": 54,
   "metadata": {},
   "outputs": [
    {
     "name": "stdout",
     "output_type": "stream",
     "text": [
      "None\n",
      "42\n",
      "3.14\n",
      "true\n",
      "false\n",
      "\"Hello, world!\"\n",
      "[]\n",
      "{}\n"
     ]
    }
   ],
   "source": [
    "print(serialize(None))\n",
    "print(serialize(42))\n",
    "print(serialize(3.14))\n",
    "print(serialize(True))\n",
    "print(serialize(False))\n",
    "print(serialize(\"Hello, world!\"))\n",
    "print(serialize([]))\n",
    "print(serialize({}))"
   ]
  },
  {
   "cell_type": "code",
   "execution_count": 16,
   "metadata": {},
   "outputs": [
    {
     "name": "stdout",
     "output_type": "stream",
     "text": [
      "null\n",
      "42\n",
      "3.14\n",
      "true\n",
      "false\n",
      "\"Hello, world!\"\n",
      "[]\n",
      "{}\n"
     ]
    }
   ],
   "source": [
    "print(json.dumps(None))\n",
    "print(json.dumps(42))\n",
    "print(json.dumps(3.14))\n",
    "print(json.dumps(True))\n",
    "print(json.dumps(False))\n",
    "print(json.dumps(\"Hello, world!\"))\n",
    "print(json.dumps([]))\n",
    "print(json.dumps({}))"
   ]
  }
 ],
 "metadata": {
  "kernelspec": {
   "display_name": ".venv",
   "language": "python",
   "name": "python3"
  },
  "language_info": {
   "codemirror_mode": {
    "name": "ipython",
    "version": 3
   },
   "file_extension": ".py",
   "mimetype": "text/x-python",
   "name": "python",
   "nbconvert_exporter": "python",
   "pygments_lexer": "ipython3",
   "version": "3.9.6"
  }
 },
 "nbformat": 4,
 "nbformat_minor": 2
}
